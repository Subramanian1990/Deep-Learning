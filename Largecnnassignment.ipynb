{
  "nbformat": 4,
  "nbformat_minor": 0,
  "metadata": {
    "colab": {
      "name": "Untitled4.ipynb",
      "provenance": [],
      "collapsed_sections": [],
      "authorship_tag": "ABX9TyPTqw/WZ3LVC19Vqn257GSF",
      "include_colab_link": true
    },
    "kernelspec": {
      "name": "python3",
      "display_name": "Python 3"
    },
    "accelerator": "GPU"
  },
  "cells": [
    {
      "cell_type": "markdown",
      "metadata": {
        "id": "view-in-github",
        "colab_type": "text"
      },
      "source": [
        "<a href=\"https://colab.research.google.com/github/Subramanian1990/Deep-Learning/blob/master/Largecnnassignment.ipynb\" target=\"_parent\"><img src=\"https://colab.research.google.com/assets/colab-badge.svg\" alt=\"Open In Colab\"/></a>"
      ]
    },
    {
      "cell_type": "code",
      "metadata": {
        "id": "OUJvEgD-IJ2I",
        "colab_type": "code",
        "colab": {}
      },
      "source": [
        "import matplotlib.pyplot as plt\n",
        "import numpy as np\n",
        "\n",
        "import torch\n",
        "import torchvision\n",
        "import torchvision.transforms as transforms\n",
        "import torch.nn as nn\n",
        "import torch.optim as optim\n",
        "from torchvision import models\n",
        "import copy"
      ],
      "execution_count": 0,
      "outputs": []
    },
    {
      "cell_type": "code",
      "metadata": {
        "id": "bDePWBcYIT6k",
        "colab_type": "code",
        "outputId": "a5ddb1c6-ec75-41e5-a30d-498d7d99a685",
        "colab": {
          "base_uri": "https://localhost:8080/",
          "height": 34
        }
      },
      "source": [
        "device = torch.device(\"cuda:0\" if torch.cuda.is_available() else \"cpu\")\n",
        "print(device)"
      ],
      "execution_count": 10,
      "outputs": [
        {
          "output_type": "stream",
          "text": [
            "cuda:0\n"
          ],
          "name": "stdout"
        }
      ]
    },
    {
      "cell_type": "code",
      "metadata": {
        "id": "FazgK-zjI-pZ",
        "colab_type": "code",
        "colab": {}
      },
      "source": [
        "transform_train = transforms.Compose([\n",
        "    transforms.RandomResizedCrop(224), \n",
        "    transforms.ToTensor(),\n",
        "    transforms.Normalize((0.5, 0.5, 0.5), (0.5, 0.5, 0.5)),\n",
        "    ])\n",
        "\n",
        "transform_test = transforms.Compose([\n",
        "    transforms.RandomResizedCrop(224), \n",
        "    transforms.ToTensor(),\n",
        "    transforms.Normalize((0.5, 0.5, 0.5), (0.5, 0.5, 0.5)),\n",
        "    ])"
      ],
      "execution_count": 0,
      "outputs": []
    },
    {
      "cell_type": "code",
      "metadata": {
        "id": "FI73-nTYJDjN",
        "colab_type": "code",
        "outputId": "cfad3cf4-765b-46df-f15d-342543df51b2",
        "colab": {
          "base_uri": "https://localhost:8080/",
          "height": 51
        }
      },
      "source": [
        "trainset = torchvision.datasets.CIFAR10(root='./data', train=True, \n",
        "                                        download=True, \n",
        "                                        transform=transform_train)\n",
        "testset = torchvision.datasets.CIFAR10(root='./data', train=False, \n",
        "                                        download=True, \n",
        "                                        transform=transform_test)"
      ],
      "execution_count": 12,
      "outputs": [
        {
          "output_type": "stream",
          "text": [
            "Files already downloaded and verified\n",
            "Files already downloaded and verified\n"
          ],
          "name": "stdout"
        }
      ]
    },
    {
      "cell_type": "code",
      "metadata": {
        "id": "Fo8bOe4XJ8Bl",
        "colab_type": "code",
        "outputId": "54853a09-791a-43f1-b229-bd01154c65c8",
        "colab": {
          "base_uri": "https://localhost:8080/",
          "height": 68
        }
      },
      "source": [
        "num_classes = 10\n",
        "batch_size = 16\n",
        "trainloader = torch.utils.data.DataLoader(trainset, batch_size=batch_size, shuffle=True)\n",
        "dataiter = iter(trainloader)\n",
        "images, labels = dataiter.next()\n",
        "\n",
        "print(images.shape)\n",
        "\n",
        "print(images[1].shape)\n",
        "print(labels[1].item())"
      ],
      "execution_count": 13,
      "outputs": [
        {
          "output_type": "stream",
          "text": [
            "torch.Size([4, 3, 224, 224])\n",
            "torch.Size([3, 224, 224])\n",
            "2\n"
          ],
          "name": "stdout"
        }
      ]
    },
    {
      "cell_type": "code",
      "metadata": {
        "id": "G-pz0XmuKOSI",
        "colab_type": "code",
        "colab": {}
      },
      "source": [
        "def load_model(modelname,dataset):\n",
        "  if (modelname=='vgg'):\n",
        "    usermodel=models.vgg16_bn(pretrained=True)\n",
        "    for param in usermodel.parameters():\n",
        "      param.requires_grad = False\n",
        "    final_in_features = usermodel.classifier[6].in_features\n",
        "    usermodel.classifier[6] = nn.Linear(final_in_features, num_classes)\n",
        "    usermodel = usermodel.to(device)\n",
        "    \n",
        "    predict(usermodel,trainset)\n",
        "\n",
        "def evaluation(dataloader, model):\n",
        "    total, correct = 0, 0\n",
        "    model.load__state_dict(best_model)\n",
        "    for data in dataloader:\n",
        "        inputs, labels = data\n",
        "        inputs, labels = inputs.to(device), labels.to(device)\n",
        "        outputs, aux_outputs = model(inputs)\n",
        "        _, pred = torch.max(outputs.data, 1)\n",
        "        total += labels.size(0)\n",
        "        correct += (pred == labels).sum().item()\n",
        "    return 100 * correct / total\n",
        "\n",
        "def predict(model,dataset):\n",
        "  loss_fn = nn.CrossEntropyLoss()\n",
        "  opt = optim.SGD(model.parameters(), lr=0.05)\n",
        "  \n",
        "  \n",
        "  loss_epoch_arr = []\n",
        "  max_epochs = 4\n",
        "\n",
        "  min_loss = 1000\n",
        "\n",
        "  n_iters = np.ceil(50000/batch_size)\n",
        "\n",
        "  for epoch in range(max_epochs):\n",
        "\n",
        "    for i, data in enumerate(trainloader, 0):\n",
        "\n",
        "        inputs, labels = data\n",
        "        inputs, labels = inputs.to(device), labels.to(device)\n",
        "\n",
        "        opt.zero_grad()\n",
        "\n",
        "        outputs = model(inputs)\n",
        "        loss = loss_fn(outputs, labels)\n",
        "        loss.backward()\n",
        "        opt.step()\n",
        "        \n",
        "        if min_loss > loss.item():\n",
        "            min_loss = loss.item()\n",
        "            best_model = copy.deepcopy(model.state_dict())\n",
        "            print('Min loss %0.2f' % min_loss)\n",
        "        \n",
        "        if i % 100 == 0:\n",
        "            print('Iteration: %d/%d, Loss: %0.2f' % (i, n_iters, loss.item()))\n",
        "            \n",
        "        del inputs, labels, outputs\n",
        "        torch.cuda.empty_cache()\n",
        "        \n",
        "    loss_epoch_arr.append(loss.item())\n",
        "        \n",
        "    print('Epoch: %d/%d, Test acc: %0.2f, Train acc: %0.2f' % (\n",
        "        epoch, max_epochs, \n",
        "        evaluation(testloader, model), evaluation(trainloader, mocel)))\n",
        "    plt.plot(loss_epoch_arr)\n",
        "    plt.show()\n",
        "\n",
        "    \n",
        "\n",
        "\n",
        "\n",
        "\n",
        "\n"
      ],
      "execution_count": 0,
      "outputs": []
    },
    {
      "cell_type": "code",
      "metadata": {
        "id": "60oP6IU5-_Pp",
        "colab_type": "code",
        "outputId": "b5fbdfd9-f775-450c-b123-0acf2582d5a5",
        "colab": {
          "base_uri": "https://localhost:8080/",
          "height": 1000
        }
      },
      "source": [
        "load_model(\"vgg\",trainset)"
      ],
      "execution_count": 0,
      "outputs": [
        {
          "output_type": "stream",
          "text": [
            "Min loss 2.37\n",
            "Iteration: 0/12500, Loss: 2.37\n",
            "Min loss 1.44\n",
            "Min loss 0.51\n",
            "Iteration: 100/12500, Loss: 5.56\n",
            "Iteration: 200/12500, Loss: 3.69\n",
            "Min loss 0.25\n",
            "Iteration: 300/12500, Loss: 4.12\n",
            "Min loss 0.14\n",
            "Iteration: 400/12500, Loss: 1.97\n",
            "Min loss 0.02\n",
            "Iteration: 500/12500, Loss: 4.69\n",
            "Iteration: 600/12500, Loss: 2.18\n",
            "Iteration: 700/12500, Loss: 8.93\n",
            "Iteration: 800/12500, Loss: 5.38\n",
            "Iteration: 900/12500, Loss: 10.04\n",
            "Iteration: 1000/12500, Loss: 5.81\n",
            "Iteration: 1100/12500, Loss: 1.85\n",
            "Iteration: 1200/12500, Loss: 1.47\n",
            "Iteration: 1300/12500, Loss: 1.66\n",
            "Min loss 0.00\n",
            "Iteration: 1400/12500, Loss: 8.46\n",
            "Iteration: 1500/12500, Loss: 4.93\n",
            "Iteration: 1600/12500, Loss: 6.33\n",
            "Iteration: 1700/12500, Loss: 6.08\n",
            "Iteration: 1800/12500, Loss: 6.40\n",
            "Iteration: 1900/12500, Loss: 3.41\n",
            "Iteration: 2000/12500, Loss: 1.11\n",
            "Iteration: 2100/12500, Loss: 7.87\n",
            "Iteration: 2200/12500, Loss: 1.43\n",
            "Iteration: 2300/12500, Loss: 5.07\n",
            "Iteration: 2400/12500, Loss: 7.00\n",
            "Iteration: 2500/12500, Loss: 7.82\n",
            "Min loss 0.00\n",
            "Iteration: 2600/12500, Loss: 10.64\n",
            "Iteration: 2700/12500, Loss: 1.08\n",
            "Iteration: 2800/12500, Loss: 5.17\n",
            "Iteration: 2900/12500, Loss: 13.52\n",
            "Iteration: 3000/12500, Loss: 5.19\n",
            "Iteration: 3100/12500, Loss: 6.00\n",
            "Iteration: 3200/12500, Loss: 5.18\n",
            "Iteration: 3300/12500, Loss: 4.44\n",
            "Iteration: 3400/12500, Loss: 7.64\n",
            "Iteration: 3500/12500, Loss: 11.23\n",
            "Iteration: 3600/12500, Loss: 2.37\n",
            "Iteration: 3700/12500, Loss: 1.37\n",
            "Iteration: 3800/12500, Loss: 3.51\n",
            "Iteration: 3900/12500, Loss: 9.58\n",
            "Iteration: 4000/12500, Loss: 7.73\n",
            "Iteration: 4100/12500, Loss: 6.42\n",
            "Iteration: 4200/12500, Loss: 3.26\n",
            "Iteration: 4300/12500, Loss: 3.58\n",
            "Iteration: 4400/12500, Loss: 7.57\n",
            "Iteration: 4500/12500, Loss: 4.11\n",
            "Iteration: 4600/12500, Loss: 4.18\n",
            "Iteration: 4700/12500, Loss: 7.50\n",
            "Iteration: 4800/12500, Loss: 5.80\n",
            "Iteration: 4900/12500, Loss: 10.82\n",
            "Iteration: 5000/12500, Loss: 6.43\n",
            "Iteration: 5100/12500, Loss: 8.56\n",
            "Iteration: 5200/12500, Loss: 4.66\n",
            "Iteration: 5300/12500, Loss: 1.99\n",
            "Iteration: 5400/12500, Loss: 7.79\n"
          ],
          "name": "stdout"
        }
      ]
    }
  ]
}